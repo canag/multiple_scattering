{
 "nbformat": 4,
 "nbformat_minor": 2,
 "metadata": {
  "language_info": {
   "name": "python",
   "codemirror_mode": {
    "name": "ipython",
    "version": 3
   },
   "version": "3.6.8-final"
  },
  "orig_nbformat": 2,
  "file_extension": ".py",
  "mimetype": "text/x-python",
  "name": "python",
  "npconvert_exporter": "python",
  "pygments_lexer": "ipython3",
  "version": 3,
  "kernelspec": {
   "name": "py36",
   "display_name": "py36"
  }
 },
 "cells": [
  {
   "cell_type": "code",
   "execution_count": 4,
   "metadata": {},
   "outputs": [],
   "source": [
    "import numpy as np\n",
    "import matplotlib.pyplot as plt\n",
    "from matplotlib import style\n",
    "style.use('dark_background')\n",
    "\n",
    "import importlib\n",
    "import collective_Smatrix as tools\n",
    "import platonic_solid as positions\n",
    "\n",
    "c = 3e8\n",
    "hbar = 1.0545718e-34"
   ]
  },
  {
   "cell_type": "code",
   "execution_count": 21,
   "metadata": {},
   "outputs": [],
   "source": [
    "N = 4\n",
    "pos = np.zeros((3,N))\n",
    "\n",
    "if N%2==1:\n",
    "    # N odd\n",
    "    nei = int((N-1)/2)\n",
    "    pos[0,:] = np.arange(N)-nei\n",
    "else:\n",
    "    # N even\n",
    "    nei = int(N/2)\n",
    "    pos[0,:] = np.arange(N)+1/2-nei\n",
    "\n",
    "a = np.logspace(np.log10(50), np.log10(1000), 20)*1e-9\n",
    "n = a.shape\n",
    "E_Cas = 0*a\n",
    "E_PW = 0*a"
   ]
  },
  {
   "cell_type": "code",
   "execution_count": 22,
   "metadata": {},
   "outputs": [
    {
     "data": {
      "text/plain": "(20,)"
     },
     "execution_count": 22,
     "metadata": {},
     "output_type": "execute_result"
    }
   ],
   "source": [
    "n"
   ]
  },
  {
   "cell_type": "code",
   "execution_count": null,
   "metadata": {},
   "outputs": [],
   "source": []
  }
 ]
}