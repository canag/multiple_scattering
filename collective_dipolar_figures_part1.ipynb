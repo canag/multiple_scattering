{
 "cells": [
  {
   "cell_type": "code",
   "execution_count": 1,
   "metadata": {},
   "outputs": [],
   "source": [
    "import numpy as np\n",
    "import matplotlib.pyplot as plt\n",
    "import importlib\n",
    "import sys\n",
    "sys.path.insert(0, '/Users/canaguier/Desktop/LKB/multiple_scattering')"
   ]
  },
  {
   "cell_type": "code",
   "execution_count": 2,
   "metadata": {},
   "outputs": [],
   "source": [
    "import collective_Smatrix as tools\n",
    "import platonic_solid as positions"
   ]
  },
  {
   "cell_type": "code",
   "execution_count": 3,
   "metadata": {},
   "outputs": [],
   "source": [
    "# number of multipoles to be included\n",
    "lmax = 8\n",
    "Nsph = 2*lmax*(2*lmax+1)\n",
    "\n",
    "# ring radius\n",
    "ka = np.pi\n",
    "\n",
    "# particle pseudo-radius\n",
    "kR = 0.8"
   ]
  },
  {
   "cell_type": "code",
   "execution_count": 4,
   "metadata": {},
   "outputs": [
    {
     "name": "stdout",
     "output_type": "stream",
     "text": [
      "[[ 1.81379936  1.81379936 -1.81379936 -1.81379936  0.        ]\n",
      " [ 1.81379936 -1.81379936  1.81379936 -1.81379936  0.        ]\n",
      " [ 1.81379936 -1.81379936 -1.81379936  1.81379936  0.        ]]\n"
     ]
    }
   ],
   "source": [
    "# generate positions on the vertices of a platonic solid\n",
    "importlib.reload(positions)\n",
    "\n",
    "# tetrahedron (Nring=4)\n",
    "N = 4+1\n",
    "pos = np.zeros((3,N))\n",
    "pos[:,:(N-1)] = positions.platonic(4, ka)\n",
    "print(pos)"
   ]
  },
  {
   "cell_type": "code",
   "execution_count": 11,
   "metadata": {},
   "outputs": [
    {
     "name": "stdout",
     "output_type": "stream",
     "text": [
      "[10.  +0.j         10.  +0.j         10.  +0.j         10.  +0.j\n",
      "  9.99+0.63245553j]\n"
     ]
    }
   ],
   "source": [
    "# optical properties of the objects\n",
    "# for an artificial dielectric\n",
    "eps0 = 10\n",
    "eps = eps0 + np.zeros(N, dtype=np.complex_)\n",
    "# add absorption for the central (last) dipole\n",
    "eps[N-1] = (np.sqrt(eps0)+0.1*1j)**2\n",
    "print(eps)"
   ]
  },
  {
   "cell_type": "code",
   "execution_count": 17,
   "metadata": {},
   "outputs": [
    {
     "name": "stdout",
     "output_type": "stream",
     "text": [
      "[4.52869384+1.15934562j 4.52869384+1.15934562j 4.52869384+1.15934562j\n",
      " 4.52869384+1.15934562j 4.49329482+1.23018291j]\n",
      "[1.15934562 1.15934562 1.15934562 1.15934562 1.15138247]\n",
      "[-2.22044605e-16 -2.22044605e-16 -2.22044605e-16 -2.22044605e-16\n",
      "  7.88004401e-02]\n"
     ]
    }
   ],
   "source": [
    "# clausius-Mossoti relation\n",
    "alpha_0 = 4*np.pi*(eps-1)/(eps+2)*kR**3\n",
    "# inclusion of radiative correction\n",
    "alpha = alpha_0/(1-1j*alpha_0/(6*np.pi))\n",
    "print(alpha)\n",
    "print(np.abs(alpha)**2/(6*np.pi))\n",
    "print(np.imag(alpha)-np.abs(alpha)**2/(6*np.pi))"
   ]
  },
  {
   "cell_type": "code",
   "execution_count": 6,
   "metadata": {},
   "outputs": [],
   "source": [
    "# buliding the S matrix of size Nsph by Nsph\n",
    "importlib.reload(tools)\n",
    "S = tools.matrix_Sdip(pos,alpha,lmax)"
   ]
  },
  {
   "cell_type": "code",
   "execution_count": 20,
   "metadata": {},
   "outputs": [
    {
     "name": "stdout",
     "output_type": "stream",
     "text": [
      "[[0.]\n",
      " [0.]\n",
      " [0.]] [4.49329482+1.23018291j]\n"
     ]
    }
   ],
   "source": [
    "print(pos[:,[N-1]], alpha[[N-1]])"
   ]
  },
  {
   "cell_type": "code",
   "execution_count": 7,
   "metadata": {},
   "outputs": [],
   "source": [
    "# for comparison, same with only central absorber\n",
    "importlib.reload(tools)\n",
    "S_CA = tools.matrix_Sdip(pos[:,[N-1]], alpha[[N-1]], lmax)"
   ]
  },
  {
   "cell_type": "code",
   "execution_count": 23,
   "metadata": {},
   "outputs": [],
   "source": [
    "# singular value decomposition (Sigma is a numpy vector)\n",
    "U, Sigma, V = np.linalg.svd(S)\n",
    "U_CA, Sigma_CA, V_CA = np.linalg.svd(S_CA)\n",
    "\n",
    "# STRANGE VALUE AT 409 (complete) and 403 (CA)"
   ]
  },
  {
   "cell_type": "code",
   "execution_count": 9,
   "metadata": {},
   "outputs": [],
   "source": [
    "# get the singular values for the absorption operator\n",
    "abstot = 1-Sigma*Sigma\n",
    "abs_CA = 1-Sigma_CA*Sigma_CA"
   ]
  },
  {
   "cell_type": "code",
   "execution_count": 10,
   "metadata": {},
   "outputs": [
    {
     "name": "stdout",
     "output_type": "stream",
     "text": [
      "Number of surrounding dipoles : 4\n",
      "The maximum abs goes from 1.1550760348200129e-12 to 0.07872163595429316\n",
      "The relative increase of the max absolute value is 6815277399933.65\n"
     ]
    }
   ],
   "source": [
    "print('Number of surrounding dipoles :',N-1)\n",
    "print('The maximum abs goes from', max(abs_CA), 'to', max(abstot))\n",
    "print('The relative increase of the max absolute value is', 100*(max(abstot)-max(abs_CA))/max(abs_CA))"
   ]
  },
  {
   "cell_type": "code",
   "execution_count": 21,
   "metadata": {},
   "outputs": [
    {
     "data": {
      "image/png": "[encoded data removed]",
      "text/plain": [
       "<Figure size 432x288 with 2 Axes>"
      ]
     },
     "metadata": {
      "needs_background": "light"
     },
     "output_type": "display_data"
    }
   ],
   "source": [
    "importlib.reload(tools)\n",
    "D = tools.matrix_Ddip(pos,alpha,lmax)\n",
    "\n",
    "fig, ax = plt.subplots()\n",
    "v = np.max(np.abs(D))\n",
    "out = ax.matshow(np.real(D), cmap='seismic', vmin=-v, vmax=v)\n",
    "fig.colorbar(out)\n",
    "plt.show()"
   ]
  },
  {
   "cell_type": "code",
   "execution_count": 22,
   "metadata": {},
   "outputs": [
    {
     "data": {
      "image/png": "[encoded data removed]",
      "text/plain": [
       "<Figure size 432x288 with 2 Axes>"
      ]
     },
     "metadata": {
      "needs_background": "light"
     },
     "output_type": "display_data"
    }
   ],
   "source": [
    "fig, ax = plt.subplots()\n",
    "v = np.max(np.abs(D))\n",
    "out = ax.matshow(np.imag(D), cmap='seismic', vmin=-v, vmax=v)\n",
    "fig.colorbar(out)\n",
    "plt.show()"
   ]
  },
  {
   "cell_type": "code",
   "execution_count": null,
   "metadata": {},
   "outputs": [],
   "source": []
  }
 ],
 "metadata": {
  "file_extension": ".py",
  "kernelspec": {
   "display_name": "py36",
   "language": "python",
   "name": "py36"
  },
  "language_info": {
   "codemirror_mode": {
    "name": "ipython",
    "version": 3
   },
   "file_extension": ".py",
   "mimetype": "text/x-python",
   "name": "python",
   "nbconvert_exporter": "python",
   "pygments_lexer": "ipython3",
   "version": "3.6.8"
  },
  "mimetype": "text/x-python",
  "name": "python",
  "npconvert_exporter": "python",
  "pygments_lexer": "ipython3",
  "version": 3
 },
 "nbformat": 4,
 "nbformat_minor": 4
}
