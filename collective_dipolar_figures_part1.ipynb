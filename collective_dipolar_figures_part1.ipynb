{
 "nbformat": 4,
 "nbformat_minor": 2,
 "metadata": {
  "language_info": {
   "name": "python",
   "codemirror_mode": {
    "name": "ipython",
    "version": 3
   }
  },
  "orig_nbformat": 2,
  "file_extension": ".py",
  "mimetype": "text/x-python",
  "name": "python",
  "npconvert_exporter": "python",
  "pygments_lexer": "ipython3",
  "version": 3
 },
 "cells": [
  {
   "cell_type": "code",
   "execution_count": 105,
   "metadata": {},
   "outputs": [],
   "source": [
    "import numpy as np\n",
    "import matplotlib.pyplot as plt\n",
    "import importlib\n",
    "import sys\n",
    "sys.path.insert(0, '/Users/canaguier/Desktop/LKB/multiple_scattering')"
   ]
  },
  {
   "cell_type": "code",
   "execution_count": 108,
   "metadata": {},
   "outputs": [],
   "source": [
    "import collective_Smatrix as tools\n",
    "import platonic_solid as positions"
   ]
  },
  {
   "cell_type": "code",
   "execution_count": 129,
   "metadata": {},
   "outputs": [],
   "source": [
    "# number of multipoles to be included\n",
    "lmax = 8\n",
    "\n",
    "# ring radius\n",
    "ka = np.pi\n",
    "\n",
    "# particle pseudo-radius\n",
    "kR = 0.8"
   ]
  },
  {
   "cell_type": "code",
   "execution_count": 130,
   "metadata": {},
   "outputs": [
    {
     "name": "stdout",
     "output_type": "stream",
     "text": "[[ 1.81379936  1.81379936 -1.81379936 -1.81379936  0.        ]\n [ 1.81379936 -1.81379936  1.81379936 -1.81379936  0.        ]\n [ 1.81379936 -1.81379936 -1.81379936  1.81379936  0.        ]]\n"
    }
   ],
   "source": [
    "# generate positions on the vertices of a platonic solid\n",
    "importlib.reload(positions)\n",
    "\n",
    "# tetrahedron (Nring=4)\n",
    "N = 4+1\n",
    "pos = np.zeros((3,N))\n",
    "pos[:,:(N-1)] = positions.platonic(4, ka)\n",
    "print(pos)"
   ]
  },
  {
   "cell_type": "code",
   "execution_count": 131,
   "metadata": {},
   "outputs": [],
   "source": [
    "# optical properties of the objects\n",
    "# for an artificial dielectric\n",
    "eps0 = 10\n",
    "eps = eps0 + np.zeros(N, dtype=np.complex_)\n",
    "# add absorption for the central (last) dipole\n",
    "eps[N-1] = (np.sqrt(eps0)+0.1*1j)**2\n",
    "\n",
    "# clausius-Mossoti relation\n",
    "alpha_0 = 4*np.pi*(eps-1)/(eps+2)*kR**3\n",
    "# inclusion of radiative correction\n",
    "alpha = alpha_0/(1-1j*alpha_0/(6*np.pi))"
   ]
  },
  {
   "cell_type": "code",
   "execution_count": 132,
   "metadata": {},
   "outputs": [],
   "source": [
    "# buliding the S matrix of size Nsph by Nsph\n",
    "importlib.reload(tools)\n",
    "S = tools.matrix_Sdip(pos,alpha,lmax)"
   ]
  },
  {
   "cell_type": "code",
   "execution_count": 133,
   "metadata": {},
   "outputs": [],
   "source": [
    "# for comparison, same with only central absorber\n",
    "importlib.reload(tools)\n",
    "S_CA = tools.matrix_Sdip(pos[:,[N-1]], alpha[[N-1]], lmax)"
   ]
  },
  {
   "cell_type": "code",
   "execution_count": 134,
   "metadata": {},
   "outputs": [],
   "source": [
    "# singular value decomposition (Sigma is a numpy vector)\n",
    "U, Sigma, V = np.linalg.svd(S)\n",
    "U_CA, Sigma_CA, V_CA = np.linalg.svd(S_CA)"
   ]
  },
  {
   "cell_type": "code",
   "execution_count": 135,
   "metadata": {},
   "outputs": [],
   "source": [
    "# get the singular values for the absorption operator\n",
    "abstot = 1-Sigma*Sigma\n",
    "abs_CA = 1-Sigma_CA*Sigma_CA"
   ]
  },
  {
   "cell_type": "code",
   "execution_count": 136,
   "metadata": {},
   "outputs": [
    {
     "name": "stdout",
     "output_type": "stream",
     "text": "Number of surrounding dipoles : 4\nThe maximum abs goes from 1.15507603482e-12 to 0.0787216359543\nThe relative increase of the max absolute value is 6.81527739993e+12\n"
    }
   ],
   "source": [
    "print('Number of surrounding dipoles :',N-1)\n",
    "print('The maximum abs goes from', max(abs_CA), 'to', max(abstot))\n",
    "print('The relative increase of the max absolute value is', 100*(max(abstot)-max(abs_CA))/max(abs_CA))"
   ]
  },
  {
   "cell_type": "code",
   "execution_count": 139,
   "metadata": {},
   "outputs": [
    {
     "name": "stdout",
     "output_type": "stream",
     "text": "[ 408.65824044    1.08018856    1.0650616     1.06048458    1.05705092\n    1.04379894    1.03677809    1.03516664    1.02615972    1.02579384\n    1.0135613     1.01006997    1.00943864    1.            1.            1.\n    1.            1.            1.            1.            1.            1.\n    1.            1.            1.            1.            1.            1.\n    1.            1.            1.            1.            1.            1.\n    1.            1.            1.            1.            1.            1.\n    1.            1.            1.            1.            1.            1.\n    1.            1.            1.            1.            1.            1.\n    1.            1.            1.            1.            1.            1.\n    1.            1.            1.            1.            1.            1.\n    1.            1.            1.            1.            1.            1.\n    1.            1.            1.            1.            1.            1.\n    1.            1.            1.            1.            1.            1.\n    1.            1.            1.            1.            1.            1.\n    1.            1.            1.            1.            1.            1.\n    1.            1.            1.            1.            1.            1.\n    1.            1.            1.            1.            1.            1.\n    1.            1.            1.            1.            1.            1.\n    1.            1.            1.            1.            1.            1.\n    1.            1.            1.            1.            1.            1.\n    1.            1.            1.            1.            1.            1.\n    1.            1.            1.            1.            1.            1.\n    1.            1.            1.            1.            1.            1.\n    1.            1.            1.            1.            1.            1.\n    1.            1.            1.            1.            1.            1.\n    1.            1.            1.            1.            1.            1.\n    1.            1.            1.            1.            1.            1.\n    1.            1.            1.            1.            1.            1.\n    1.            1.            1.            1.            1.            1.\n    1.            1.            1.            1.            1.            1.\n    1.            1.            1.            1.            1.            1.\n    1.            1.            1.            1.            1.            1.\n    1.            1.            1.            1.            1.            1.\n    1.            1.            1.            1.            1.            1.\n    1.            1.            1.            1.            1.            1.\n    1.            1.            1.            1.            1.            1.\n    1.            1.            1.            1.            1.            1.\n    1.            1.            1.            1.            1.            1.\n    1.            1.            1.            1.            1.            1.\n    1.            1.            1.            1.            1.            1.\n    1.            1.            1.            1.            1.            1.\n    1.            1.            1.            1.            1.            1.\n    1.            1.            1.            1.            0.99247884\n    0.99100352    0.98771452    0.98748194    0.98414263    0.97777802\n    0.97516885    0.97425823    0.96485224    0.96171198    0.96059133\n    0.95983247]\n"
    }
   ],
   "source": [
    "print(Sigma)"
   ]
  },
  {
   "cell_type": "code",
   "execution_count": null,
   "metadata": {},
   "outputs": [],
   "source": []
  }
 ]
}